{
  "metadata": {
    "kernelspec": {
      "name": "python",
      "display_name": "Python (Pyodide)",
      "language": "python"
    },
    "language_info": {
      "codemirror_mode": {
        "name": "python",
        "version": 3
      },
      "file_extension": ".py",
      "mimetype": "text/x-python",
      "name": "python",
      "nbconvert_exporter": "python",
      "pygments_lexer": "ipython3",
      "version": "3.8"
    }
  },
  "nbformat_minor": 4,
  "nbformat": 4,
  "cells": [
    {
      "cell_type": "markdown",
      "source": "# Notebook Title\n",
      "metadata": {}
    },
    {
      "cell_type": "markdown",
      "source": "## Introduction\nThis section introduces the notebook and its contents.\n",
      "metadata": {}
    },
    {
      "cell_type": "markdown",
      "source": "## Data Science Languages\n- Python\n- R\n- SQL\n- Julia\n",
      "metadata": {}
    },
    {
      "cell_type": "markdown",
      "source": "## Data Science Libraries\n- NumPy\n- Pandas\n- Matplotlib\n- Scikit-learn\n- TensorFlow\n",
      "metadata": {}
    },
    {
      "cell_type": "markdown",
      "source": "## Data Science Tools\n| Tool              | Description                         |\n|-------------------|-------------------------------------|\n| Jupyter Notebook  | Interactive environment for coding  |\n| RStudio           | IDE for R                           |\n| Apache Hadoop     | Framework for big data processing   |\n",
      "metadata": {}
    },
    {
      "cell_type": "markdown",
      "source": "## Examples of Arithmetic Expressions\n- `3 + 5 = 8`\n- `10 * 2 = 20`\n- `6 / 3 = 2`\n",
      "metadata": {}
    },
    {
      "cell_type": "code",
      "source": "minutes = 150\nhours = minutes / 60\nhours\n",
      "metadata": {
        "trusted": true
      },
      "outputs": [
        {
          "execution_count": 1,
          "output_type": "execute_result",
          "data": {
            "text/plain": "2.5"
          },
          "metadata": {}
        }
      ],
      "execution_count": 1
    },
    {
      "cell_type": "markdown",
      "source": "## Objectives\n- Understand the basics of data science.\n- Learn to use data science tools.\n- Practice data manipulation with specific languages and libraries.\n",
      "metadata": {}
    },
    {
      "cell_type": "markdown",
      "source": "## Author\n- [Adam kacimi el hassani ]\n  \n",
      "metadata": {}
    },
    {
      "cell_type": "code",
      "source": "",
      "metadata": {
        "trusted": true
      },
      "outputs": [],
      "execution_count": null
    },
    {
      "cell_type": "code",
      "source": "",
      "metadata": {
        "trusted": true
      },
      "outputs": [],
      "execution_count": null
    },
    {
      "cell_type": "code",
      "source": "",
      "metadata": {
        "trusted": true
      },
      "outputs": [],
      "execution_count": null
    }
  ]
}